{
 "cells": [
  {
   "cell_type": "markdown",
   "metadata": {
    "id": "4QgJisE1TWFj"
   },
   "source": [
    "# Earth Observation - Land Classification on EuroSAT dataset\n",
    "\n",
    "* EuroSAT is a large-scale land use and land cover classification dataset derived from multispectral Sentinel-2 satellite imagery covering European continent.\n",
    "\n",
    "* EuroSAT is composed of 27,000 georeferenced image patches (64 x 64 pixels) - each patch comprises 13 spectral bands (optical through to shortwave infrared ) resampled to 10m spatila resolution and labelled with one of 10 distinct land cover classes: AnnualCrop, Forest, HerbaceousVegetation, Highway, Industrial, Pasture, PermanentCrop, Residential, River, SeaLake.\n",
    "\n",
    "* Full details including links to journal papers and download instructions may be found here: https://github.com/phelber/eurosat.\n",
    "\n",
    "![alt text](https://github.com/phelber/EuroSAT/blob/master/eurosat_overview_small.jpg?raw=true)"
   ]
  },
  {
   "cell_type": "markdown",
   "metadata": {
    "id": "l9yKy8kMTWFl"
   },
   "source": [
    "##  1. Setup Notebook Environment"
   ]
  },
  {
   "cell_type": "markdown",
   "metadata": {
    "colab": {
     "base_uri": "https://localhost:8080/"
    },
    "id": "cOieOBqQTkDf",
    "outputId": "6893b0d3-04d1-4558-e4fe-64fab97687a1"
   },
   "source": [
    "!pip install avalanche-lib==0.5.0"
   ]
  },
  {
   "cell_type": "markdown",
   "metadata": {
    "id": "6nBFhaUvTWFl"
   },
   "source": [
    "### 1.1 Import all required packages."
   ]
  },
  {
   "cell_type": "code",
   "execution_count": 33,
   "metadata": {
    "id": "gf9uY63yTWFl"
   },
   "outputs": [],
   "source": [
    "import os\n",
    "import ssl\n",
    "import torch\n",
    "import random\n",
    "import numpy as np\n",
    "import torch.nn as nn\n",
    "from datetime import datetime\n",
    "from time import time_ns\n",
    "import matplotlib.pyplot as plt\n",
    "from torchvision import models, transforms\n",
    "from torchvision.datasets import EuroSAT\n",
    "from torch.utils.tensorboard.writer import SummaryWriter\n",
    "from torch.optim.lr_scheduler import MultiStepLR, CosineAnnealingWarmRestarts\n",
    "from avalanche.benchmarks.datasets import default_dataset_location"
   ]
  },
  {
   "cell_type": "markdown",
   "metadata": {
    "id": "-yifmocQTWFm"
   },
   "source": [
    "### 1.2 Configure settings for the corresponding optimizers and schedulers."
   ]
  },
  {
   "cell_type": "code",
   "execution_count": 34,
   "metadata": {
    "id": "Q5sYrFRtTWFm"
   },
   "outputs": [],
   "source": [
    "model_path = './model'\n",
    "quantized_model_path =\"./quantized_model\"\n",
    "use_AdamW = True # Flag utilized for switching between AdamW and SGD optimizer.\n",
    "\n",
    "if use_AdamW:\n",
    "  config = {'train_test_split':0.1, # train test split ratio\n",
    "            'tr_val_split':0.2, # train validation split ratio\n",
    "            'seed':42, # random seed\n",
    "            'mini_batch_size':128,\n",
    "            'epochs':20,\n",
    "\n",
    "            # Settings for the optimizer AdamW\n",
    "            'lr':5e-4, # learning rate\n",
    "            'weight_decay':5e-4,\n",
    "\n",
    "            # Settings for the lr_scheduler CosineAnnealingWarmRestarts\n",
    "            't_0':5, # Number of iterations for the first restart.\n",
    "            'eta_min':1e-5, # Minimum learning rate\n",
    "          }\n",
    "else:\n",
    "  config = {'train_test_split':0.1, # train test split ratio\n",
    "            'tr_val_split':0.2, # train validation split ratio\n",
    "            'seed':42, # random seed\n",
    "            'mini_batch_size':128,\n",
    "            'epochs':100,\n",
    "\n",
    "            # Settings for the optimizer SGD\n",
    "            'lr':1e-4, # learning rate\n",
    "            'weight_decay':5e-4,\n",
    "            'momentum':0.9,\n",
    "\n",
    "            # Settings for the lr_scheduler MultiStepLR\n",
    "            'milestones':[50,75,90], # List of epoch indices.\n",
    "            'gamma':0.2, # Multiplicative factor of learning rate decay.\n",
    "          }"
   ]
  },
  {
   "cell_type": "markdown",
   "metadata": {
    "id": "8B_cQmqKTWFm"
   },
   "source": [
    "### 1.3 Define a function to set a random seed for reproducibility assurance:\n",
    "* Manage sources of randomness that may lead to varying behaviors in multiple executions of your application."
   ]
  },
  {
   "cell_type": "code",
   "execution_count": 35,
   "metadata": {
    "id": "xJEWTOHbTWFm"
   },
   "outputs": [],
   "source": [
    "def set_random_seed(seed=42):\n",
    "    random.seed(seed) # set python seed\n",
    "    np.random.seed(seed) # seed the global NumPy random number generator(RNG)\n",
    "    torch.manual_seed(seed) # seed the RNG for all devices(both CPU and CUDA)\n",
    "\n",
    "set_random_seed(seed=config['seed'])"
   ]
  },
  {
   "cell_type": "markdown",
   "metadata": {
    "id": "GFxbk---TWFm"
   },
   "source": [
    "### 1.4 Tracks the active GPU and allocates all new CUDA tensors on that device by default."
   ]
  },
  {
   "cell_type": "code",
   "execution_count": 36,
   "metadata": {
    "id": "fM3Cl9-UTWFn"
   },
   "outputs": [],
   "source": [
    "device = \"cuda\" if torch.cuda.is_available() else \"cpu\"\n",
    "device = torch.device(device)"
   ]
  },
  {
   "cell_type": "markdown",
   "metadata": {
    "id": "qlta3YfSTWFn"
   },
   "source": [
    "## 2. Data Preparation:"
   ]
  },
  {
   "cell_type": "markdown",
   "metadata": {
    "id": "9Spd49TrTWFn"
   },
   "source": [
    "### 2.1 Preparing the dataset:"
   ]
  },
  {
   "cell_type": "code",
   "execution_count": 37,
   "metadata": {
    "colab": {
     "base_uri": "https://localhost:8080/"
    },
    "id": "4ryb2_rITWFo",
    "outputId": "f674f92f-c983-4201-d7eb-4057ff62e4f1"
   },
   "outputs": [],
   "source": [
    "# Transform pipeline\n",
    "transform = transforms.Compose([transforms.ToTensor(), transforms.Normalize([0.485, 0.456, 0.406],[0.229, 0.224, 0.225])])\n",
    "\n",
    "# Dataset download\n",
    "ssl._create_default_https_context = ssl._create_unverified_context # Turn off the ssl verification.\n",
    "dataset_path = default_dataset_location(\"eurosat\")\n",
    "dataset = EuroSAT(root=dataset_path, transform=transform, download=True)\n",
    "\n",
    "# Train/Test split\n",
    "n = int(len(dataset) * (1 - config['train_test_split']))\n",
    "eurosat_train, eurosat_test = torch.utils.data.random_split(dataset, [n, len(dataset) - n])"
   ]
  },
  {
   "cell_type": "markdown",
   "metadata": {
    "id": "_x--BNFVTWFo"
   },
   "source": [
    "### 2.2 Visualize Training Data"
   ]
  },
  {
   "cell_type": "code",
   "execution_count": 38,
   "metadata": {
    "colab": {
     "base_uri": "https://localhost:8080/",
     "height": 468
    },
    "id": "eX2QmNErTWFo",
    "outputId": "7af380c3-02e2-448f-8da9-2d3b38e87e4e"
   },
   "outputs": [
    {
     "name": "stdout",
     "output_type": "stream",
     "text": [
      "Image 20952 's label : 6 PermanentCrop\n"
     ]
    },
    {
     "data": {
      "text/plain": [
       "<matplotlib.image.AxesImage at 0x70e64e1f71f0>"
      ]
     },
     "execution_count": 38,
     "metadata": {},
     "output_type": "execute_result"
    },
    {
     "data": {
      "image/png": "[encoded data removed]",
      "text/plain": [
       "<Figure size 640x480 with 1 Axes>"
      ]
     },
     "metadata": {},
     "output_type": "display_data"
    }
   ],
   "source": [
    "# Randomly select an image from the Training Data for visualization and print its corresponding label.\n",
    "classes = ['AnnualCrop', 'Forest', 'HerbaceousVegetation', 'Highway', 'Industrial', 'Pasture', 'PermanentCrop', 'Residential', 'River', 'SeaLake']\n",
    "random_index = random.randrange(len(eurosat_train)) # random select an index\n",
    "random_image = eurosat_train[random_index][0].numpy().transpose((1, 2, 0))\n",
    "mean = np.array([0.485, 0.456, 0.406])\n",
    "std = np.array([0.229, 0.224, 0.225])\n",
    "random_image = std * random_image + mean\n",
    "random_image = np.clip(random_image, 0, 1)\n",
    "print(\"Image\", random_index, \"'s label :\", eurosat_train[random_index][1], classes[eurosat_train[random_index][1]])\n",
    "plt.imshow(random_image)"
   ]
  },
  {
   "cell_type": "markdown",
   "metadata": {
    "id": "R1NqCEU_TWFo"
   },
   "source": [
    "### 2.3 Instantiate PyTorch data loader that feeds the image tensors to our neural network"
   ]
  },
  {
   "cell_type": "code",
   "execution_count": 39,
   "metadata": {
    "id": "MqTSsy3qTWFo"
   },
   "outputs": [],
   "source": [
    "# Tr/Val split\n",
    "n = int(len(eurosat_train) * config['tr_val_split'])\n",
    "eurosat_tr, eurosat_val = torch.utils.data.random_split(eurosat_train, [n, len(eurosat_train) - n])\n",
    "\n",
    "# instantiate data loaders\n",
    "train_dataloader = torch.utils.data.DataLoader(eurosat_tr, batch_size=config['mini_batch_size'], shuffle=True)\n",
    "val_dataloader = torch.utils.data.DataLoader(eurosat_val, batch_size=config['mini_batch_size'], shuffle=True)\n",
    "test_dataloader = torch.utils.data.DataLoader(eurosat_test, batch_size=config['mini_batch_size'], shuffle=True)"
   ]
  },
  {
   "cell_type": "markdown",
   "metadata": {
    "id": "0q586PSvTWFo"
   },
   "source": [
    "## 3. Model Training"
   ]
  },
  {
   "cell_type": "markdown",
   "metadata": {
    "id": "YlcoNaRuTWFp"
   },
   "source": [
    "### 3.1 Create a ResNet-50 model using torchvision\n"
   ]
  },
  {
   "cell_type": "code",
   "execution_count": 40,
   "metadata": {
    "colab": {
     "base_uri": "https://localhost:8080/"
    },
    "id": "ixWXXj9KTWFp",
    "outputId": "ca4b64c4-a027-48ff-a2f1-1e72117b0d73"
   },
   "outputs": [
    {
     "data": {
      "text/plain": [
       "QuantizableResNet(\n",
       "  (conv1): Conv2d(3, 64, kernel_size=(7, 7), stride=(2, 2), padding=(3, 3), bias=False)\n",
       "  (bn1): BatchNorm2d(64, eps=1e-05, momentum=0.1, affine=True, track_running_stats=True)\n",
       "  (relu): ReLU()\n",
       "  (maxpool): MaxPool2d(kernel_size=3, stride=2, padding=1, dilation=1, ceil_mode=False)\n",
       "  (layer1): Sequential(\n",
       "    (0): QuantizableBottleneck(\n",
       "      (conv1): Conv2d(64, 64, kernel_size=(1, 1), stride=(1, 1), bias=False)\n",
       "      (bn1): BatchNorm2d(64, eps=1e-05, momentum=0.1, affine=True, track_running_stats=True)\n",
       "      (conv2): Conv2d(64, 64, kernel_size=(3, 3), stride=(1, 1), padding=(1, 1), bias=False)\n",
       "      (bn2): BatchNorm2d(64, eps=1e-05, momentum=0.1, affine=True, track_running_stats=True)\n",
       "      (conv3): Conv2d(64, 256, kernel_size=(1, 1), stride=(1, 1), bias=False)\n",
       "      (bn3): BatchNorm2d(256, eps=1e-05, momentum=0.1, affine=True, track_running_stats=True)\n",
       "      (relu): ReLU()\n",
       "      (downsample): Sequential(\n",
       "        (0): Conv2d(64, 256, kernel_size=(1, 1), stride=(1, 1), bias=False)\n",
       "        (1): BatchNorm2d(256, eps=1e-05, momentum=0.1, affine=True, track_running_stats=True)\n",
       "      )\n",
       "      (skip_add_relu): FloatFunctional(\n",
       "        (activation_post_process): Identity()\n",
       "      )\n",
       "      (relu1): ReLU()\n",
       "      (relu2): ReLU()\n",
       "    )\n",
       "    (1): QuantizableBottleneck(\n",
       "      (conv1): Conv2d(256, 64, kernel_size=(1, 1), stride=(1, 1), bias=False)\n",
       "      (bn1): BatchNorm2d(64, eps=1e-05, momentum=0.1, affine=True, track_running_stats=True)\n",
       "      (conv2): Conv2d(64, 64, kernel_size=(3, 3), stride=(1, 1), padding=(1, 1), bias=False)\n",
       "      (bn2): BatchNorm2d(64, eps=1e-05, momentum=0.1, affine=True, track_running_stats=True)\n",
       "      (conv3): Conv2d(64, 256, kernel_size=(1, 1), stride=(1, 1), bias=False)\n",
       "      (bn3): BatchNorm2d(256, eps=1e-05, momentum=0.1, affine=True, track_running_stats=True)\n",
       "      (relu): ReLU()\n",
       "      (skip_add_relu): FloatFunctional(\n",
       "        (activation_post_process): Identity()\n",
       "      )\n",
       "      (relu1): ReLU()\n",
       "      (relu2): ReLU()\n",
       "    )\n",
       "    (2): QuantizableBottleneck(\n",
       "      (conv1): Conv2d(256, 64, kernel_size=(1, 1), stride=(1, 1), bias=False)\n",
       "      (bn1): BatchNorm2d(64, eps=1e-05, momentum=0.1, affine=True, track_running_stats=True)\n",
       "      (conv2): Conv2d(64, 64, kernel_size=(3, 3), stride=(1, 1), padding=(1, 1), bias=False)\n",
       "      (bn2): BatchNorm2d(64, eps=1e-05, momentum=0.1, affine=True, track_running_stats=True)\n",
       "      (conv3): Conv2d(64, 256, kernel_size=(1, 1), stride=(1, 1), bias=False)\n",
       "      (bn3): BatchNorm2d(256, eps=1e-05, momentum=0.1, affine=True, track_running_stats=True)\n",
       "      (relu): ReLU()\n",
       "      (skip_add_relu): FloatFunctional(\n",
       "        (activation_post_process): Identity()\n",
       "      )\n",
       "      (relu1): ReLU()\n",
       "      (relu2): ReLU()\n",
       "    )\n",
       "  )\n",
       "  (layer2): Sequential(\n",
       "    (0): QuantizableBottleneck(\n",
       "      (conv1): Conv2d(256, 128, kernel_size=(1, 1), stride=(1, 1), bias=False)\n",
       "      (bn1): BatchNorm2d(128, eps=1e-05, momentum=0.1, affine=True, track_running_stats=True)\n",
       "      (conv2): Conv2d(128, 128, kernel_size=(3, 3), stride=(2, 2), padding=(1, 1), bias=False)\n",
       "      (bn2): BatchNorm2d(128, eps=1e-05, momentum=0.1, affine=True, track_running_stats=True)\n",
       "      (conv3): Conv2d(128, 512, kernel_size=(1, 1), stride=(1, 1), bias=False)\n",
       "      (bn3): BatchNorm2d(512, eps=1e-05, momentum=0.1, affine=True, track_running_stats=True)\n",
       "      (relu): ReLU()\n",
       "      (downsample): Sequential(\n",
       "        (0): Conv2d(256, 512, kernel_size=(1, 1), stride=(2, 2), bias=False)\n",
       "        (1): BatchNorm2d(512, eps=1e-05, momentum=0.1, affine=True, track_running_stats=True)\n",
       "      )\n",
       "      (skip_add_relu): FloatFunctional(\n",
       "        (activation_post_process): Identity()\n",
       "      )\n",
       "      (relu1): ReLU()\n",
       "      (relu2): ReLU()\n",
       "    )\n",
       "    (1): QuantizableBottleneck(\n",
       "      (conv1): Conv2d(512, 128, kernel_size=(1, 1), stride=(1, 1), bias=False)\n",
       "      (bn1): BatchNorm2d(128, eps=1e-05, momentum=0.1, affine=True, track_running_stats=True)\n",
       "      (conv2): Conv2d(128, 128, kernel_size=(3, 3), stride=(1, 1), padding=(1, 1), bias=False)\n",
       "      (bn2): BatchNorm2d(128, eps=1e-05, momentum=0.1, affine=True, track_running_stats=True)\n",
       "      (conv3): Conv2d(128, 512, kernel_size=(1, 1), stride=(1, 1), bias=False)\n",
       "      (bn3): BatchNorm2d(512, eps=1e-05, momentum=0.1, affine=True, track_running_stats=True)\n",
       "      (relu): ReLU()\n",
       "      (skip_add_relu): FloatFunctional(\n",
       "        (activation_post_process): Identity()\n",
       "      )\n",
       "      (relu1): ReLU()\n",
       "      (relu2): ReLU()\n",
       "    )\n",
       "    (2): QuantizableBottleneck(\n",
       "      (conv1): Conv2d(512, 128, kernel_size=(1, 1), stride=(1, 1), bias=False)\n",
       "      (bn1): BatchNorm2d(128, eps=1e-05, momentum=0.1, affine=True, track_running_stats=True)\n",
       "      (conv2): Conv2d(128, 128, kernel_size=(3, 3), stride=(1, 1), padding=(1, 1), bias=False)\n",
       "      (bn2): BatchNorm2d(128, eps=1e-05, momentum=0.1, affine=True, track_running_stats=True)\n",
       "      (conv3): Conv2d(128, 512, kernel_size=(1, 1), stride=(1, 1), bias=False)\n",
       "      (bn3): BatchNorm2d(512, eps=1e-05, momentum=0.1, affine=True, track_running_stats=True)\n",
       "      (relu): ReLU()\n",
       "      (skip_add_relu): FloatFunctional(\n",
       "        (activation_post_process): Identity()\n",
       "      )\n",
       "      (relu1): ReLU()\n",
       "      (relu2): ReLU()\n",
       "    )\n",
       "    (3): QuantizableBottleneck(\n",
       "      (conv1): Conv2d(512, 128, kernel_size=(1, 1), stride=(1, 1), bias=False)\n",
       "      (bn1): BatchNorm2d(128, eps=1e-05, momentum=0.1, affine=True, track_running_stats=True)\n",
       "      (conv2): Conv2d(128, 128, kernel_size=(3, 3), stride=(1, 1), padding=(1, 1), bias=False)\n",
       "      (bn2): BatchNorm2d(128, eps=1e-05, momentum=0.1, affine=True, track_running_stats=True)\n",
       "      (conv3): Conv2d(128, 512, kernel_size=(1, 1), stride=(1, 1), bias=False)\n",
       "      (bn3): BatchNorm2d(512, eps=1e-05, momentum=0.1, affine=True, track_running_stats=True)\n",
       "      (relu): ReLU()\n",
       "      (skip_add_relu): FloatFunctional(\n",
       "        (activation_post_process): Identity()\n",
       "      )\n",
       "      (relu1): ReLU()\n",
       "      (relu2): ReLU()\n",
       "    )\n",
       "  )\n",
       "  (layer3): Sequential(\n",
       "    (0): QuantizableBottleneck(\n",
       "      (conv1): Conv2d(512, 256, kernel_size=(1, 1), stride=(1, 1), bias=False)\n",
       "      (bn1): BatchNorm2d(256, eps=1e-05, momentum=0.1, affine=True, track_running_stats=True)\n",
       "      (conv2): Conv2d(256, 256, kernel_size=(3, 3), stride=(2, 2), padding=(1, 1), bias=False)\n",
       "      (bn2): BatchNorm2d(256, eps=1e-05, momentum=0.1, affine=True, track_running_stats=True)\n",
       "      (conv3): Conv2d(256, 1024, kernel_size=(1, 1), stride=(1, 1), bias=False)\n",
       "      (bn3): BatchNorm2d(1024, eps=1e-05, momentum=0.1, affine=True, track_running_stats=True)\n",
       "      (relu): ReLU()\n",
       "      (downsample): Sequential(\n",
       "        (0): Conv2d(512, 1024, kernel_size=(1, 1), stride=(2, 2), bias=False)\n",
       "        (1): BatchNorm2d(1024, eps=1e-05, momentum=0.1, affine=True, track_running_stats=True)\n",
       "      )\n",
       "      (skip_add_relu): FloatFunctional(\n",
       "        (activation_post_process): Identity()\n",
       "      )\n",
       "      (relu1): ReLU()\n",
       "      (relu2): ReLU()\n",
       "    )\n",
       "    (1): QuantizableBottleneck(\n",
       "      (conv1): Conv2d(1024, 256, kernel_size=(1, 1), stride=(1, 1), bias=False)\n",
       "      (bn1): BatchNorm2d(256, eps=1e-05, momentum=0.1, affine=True, track_running_stats=True)\n",
       "      (conv2): Conv2d(256, 256, kernel_size=(3, 3), stride=(1, 1), padding=(1, 1), bias=False)\n",
       "      (bn2): BatchNorm2d(256, eps=1e-05, momentum=0.1, affine=True, track_running_stats=True)\n",
       "      (conv3): Conv2d(256, 1024, kernel_size=(1, 1), stride=(1, 1), bias=False)\n",
       "      (bn3): BatchNorm2d(1024, eps=1e-05, momentum=0.1, affine=True, track_running_stats=True)\n",
       "      (relu): ReLU()\n",
       "      (skip_add_relu): FloatFunctional(\n",
       "        (activation_post_process): Identity()\n",
       "      )\n",
       "      (relu1): ReLU()\n",
       "      (relu2): ReLU()\n",
       "    )\n",
       "    (2): QuantizableBottleneck(\n",
       "      (conv1): Conv2d(1024, 256, kernel_size=(1, 1), stride=(1, 1), bias=False)\n",
       "      (bn1): BatchNorm2d(256, eps=1e-05, momentum=0.1, affine=True, track_running_stats=True)\n",
       "      (conv2): Conv2d(256, 256, kernel_size=(3, 3), stride=(1, 1), padding=(1, 1), bias=False)\n",
       "      (bn2): BatchNorm2d(256, eps=1e-05, momentum=0.1, affine=True, track_running_stats=True)\n",
       "      (conv3): Conv2d(256, 1024, kernel_size=(1, 1), stride=(1, 1), bias=False)\n",
       "      (bn3): BatchNorm2d(1024, eps=1e-05, momentum=0.1, affine=True, track_running_stats=True)\n",
       "      (relu): ReLU()\n",
       "      (skip_add_relu): FloatFunctional(\n",
       "        (activation_post_process): Identity()\n",
       "      )\n",
       "      (relu1): ReLU()\n",
       "      (relu2): ReLU()\n",
       "    )\n",
       "    (3): QuantizableBottleneck(\n",
       "      (conv1): Conv2d(1024, 256, kernel_size=(1, 1), stride=(1, 1), bias=False)\n",
       "      (bn1): BatchNorm2d(256, eps=1e-05, momentum=0.1, affine=True, track_running_stats=True)\n",
       "      (conv2): Conv2d(256, 256, kernel_size=(3, 3), stride=(1, 1), padding=(1, 1), bias=False)\n",
       "      (bn2): BatchNorm2d(256, eps=1e-05, momentum=0.1, affine=True, track_running_stats=True)\n",
       "      (conv3): Conv2d(256, 1024, kernel_size=(1, 1), stride=(1, 1), bias=False)\n",
       "      (bn3): BatchNorm2d(1024, eps=1e-05, momentum=0.1, affine=True, track_running_stats=True)\n",
       "      (relu): ReLU()\n",
       "      (skip_add_relu): FloatFunctional(\n",
       "        (activation_post_process): Identity()\n",
       "      )\n",
       "      (relu1): ReLU()\n",
       "      (relu2): ReLU()\n",
       "    )\n",
       "    (4): QuantizableBottleneck(\n",
       "      (conv1): Conv2d(1024, 256, kernel_size=(1, 1), stride=(1, 1), bias=False)\n",
       "      (bn1): BatchNorm2d(256, eps=1e-05, momentum=0.1, affine=True, track_running_stats=True)\n",
       "      (conv2): Conv2d(256, 256, kernel_size=(3, 3), stride=(1, 1), padding=(1, 1), bias=False)\n",
       "      (bn2): BatchNorm2d(256, eps=1e-05, momentum=0.1, affine=True, track_running_stats=True)\n",
       "      (conv3): Conv2d(256, 1024, kernel_size=(1, 1), stride=(1, 1), bias=False)\n",
       "      (bn3): BatchNorm2d(1024, eps=1e-05, momentum=0.1, affine=True, track_running_stats=True)\n",
       "      (relu): ReLU()\n",
       "      (skip_add_relu): FloatFunctional(\n",
       "        (activation_post_process): Identity()\n",
       "      )\n",
       "      (relu1): ReLU()\n",
       "      (relu2): ReLU()\n",
       "    )\n",
       "    (5): QuantizableBottleneck(\n",
       "      (conv1): Conv2d(1024, 256, kernel_size=(1, 1), stride=(1, 1), bias=False)\n",
       "      (bn1): BatchNorm2d(256, eps=1e-05, momentum=0.1, affine=True, track_running_stats=True)\n",
       "      (conv2): Conv2d(256, 256, kernel_size=(3, 3), stride=(1, 1), padding=(1, 1), bias=False)\n",
       "      (bn2): BatchNorm2d(256, eps=1e-05, momentum=0.1, affine=True, track_running_stats=True)\n",
       "      (conv3): Conv2d(256, 1024, kernel_size=(1, 1), stride=(1, 1), bias=False)\n",
       "      (bn3): BatchNorm2d(1024, eps=1e-05, momentum=0.1, affine=True, track_running_stats=True)\n",
       "      (relu): ReLU()\n",
       "      (skip_add_relu): FloatFunctional(\n",
       "        (activation_post_process): Identity()\n",
       "      )\n",
       "      (relu1): ReLU()\n",
       "      (relu2): ReLU()\n",
       "    )\n",
       "  )\n",
       "  (layer4): Sequential(\n",
       "    (0): QuantizableBottleneck(\n",
       "      (conv1): Conv2d(1024, 512, kernel_size=(1, 1), stride=(1, 1), bias=False)\n",
       "      (bn1): BatchNorm2d(512, eps=1e-05, momentum=0.1, affine=True, track_running_stats=True)\n",
       "      (conv2): Conv2d(512, 512, kernel_size=(3, 3), stride=(2, 2), padding=(1, 1), bias=False)\n",
       "      (bn2): BatchNorm2d(512, eps=1e-05, momentum=0.1, affine=True, track_running_stats=True)\n",
       "      (conv3): Conv2d(512, 2048, kernel_size=(1, 1), stride=(1, 1), bias=False)\n",
       "      (bn3): BatchNorm2d(2048, eps=1e-05, momentum=0.1, affine=True, track_running_stats=True)\n",
       "      (relu): ReLU()\n",
       "      (downsample): Sequential(\n",
       "        (0): Conv2d(1024, 2048, kernel_size=(1, 1), stride=(2, 2), bias=False)\n",
       "        (1): BatchNorm2d(2048, eps=1e-05, momentum=0.1, affine=True, track_running_stats=True)\n",
       "      )\n",
       "      (skip_add_relu): FloatFunctional(\n",
       "        (activation_post_process): Identity()\n",
       "      )\n",
       "      (relu1): ReLU()\n",
       "      (relu2): ReLU()\n",
       "    )\n",
       "    (1): QuantizableBottleneck(\n",
       "      (conv1): Conv2d(2048, 512, kernel_size=(1, 1), stride=(1, 1), bias=False)\n",
       "      (bn1): BatchNorm2d(512, eps=1e-05, momentum=0.1, affine=True, track_running_stats=True)\n",
       "      (conv2): Conv2d(512, 512, kernel_size=(3, 3), stride=(1, 1), padding=(1, 1), bias=False)\n",
       "      (bn2): BatchNorm2d(512, eps=1e-05, momentum=0.1, affine=True, track_running_stats=True)\n",
       "      (conv3): Conv2d(512, 2048, kernel_size=(1, 1), stride=(1, 1), bias=False)\n",
       "      (bn3): BatchNorm2d(2048, eps=1e-05, momentum=0.1, affine=True, track_running_stats=True)\n",
       "      (relu): ReLU()\n",
       "      (skip_add_relu): FloatFunctional(\n",
       "        (activation_post_process): Identity()\n",
       "      )\n",
       "      (relu1): ReLU()\n",
       "      (relu2): ReLU()\n",
       "    )\n",
       "    (2): QuantizableBottleneck(\n",
       "      (conv1): Conv2d(2048, 512, kernel_size=(1, 1), stride=(1, 1), bias=False)\n",
       "      (bn1): BatchNorm2d(512, eps=1e-05, momentum=0.1, affine=True, track_running_stats=True)\n",
       "      (conv2): Conv2d(512, 512, kernel_size=(3, 3), stride=(1, 1), padding=(1, 1), bias=False)\n",
       "      (bn2): BatchNorm2d(512, eps=1e-05, momentum=0.1, affine=True, track_running_stats=True)\n",
       "      (conv3): Conv2d(512, 2048, kernel_size=(1, 1), stride=(1, 1), bias=False)\n",
       "      (bn3): BatchNorm2d(2048, eps=1e-05, momentum=0.1, affine=True, track_running_stats=True)\n",
       "      (relu): ReLU()\n",
       "      (skip_add_relu): FloatFunctional(\n",
       "        (activation_post_process): Identity()\n",
       "      )\n",
       "      (relu1): ReLU()\n",
       "      (relu2): ReLU()\n",
       "    )\n",
       "  )\n",
       "  (avgpool): AdaptiveAvgPool2d(output_size=(1, 1))\n",
       "  (fc): Linear(in_features=2048, out_features=10, bias=True)\n",
       "  (quant): QuantStub()\n",
       "  (dequant): DeQuantStub()\n",
       ")"
      ]
     },
     "execution_count": 40,
     "metadata": {},
     "output_type": "execute_result"
    }
   ],
   "source": [
    "num_classes = 10\n",
    "# https://pytorch.org/vision/main/models/generated/torchvision.models.resnet50.html\n",
    "model = models.quantization.resnet50(weights='DEFAULT')\n",
    "model.fc = nn.Linear(model.fc.in_features, num_classes)\n",
    "model.to(device)"
   ]
  },
  {
   "cell_type": "markdown",
   "metadata": {
    "id": "G_2cES5wTWFp"
   },
   "source": [
    "### 3.2 Define criterion, optimizer, and scheduler"
   ]
  },
  {
   "cell_type": "code",
   "execution_count": 41,
   "metadata": {
    "id": "Iv1ROa73TWFq"
   },
   "outputs": [],
   "source": [
    "criterion = nn.CrossEntropyLoss()\n",
    "\n",
    "# Experiment with various optimizers and schedulers.\n",
    "if use_AdamW:\n",
    "    optimizer = torch.optim.AdamW(model.parameters(), lr=config['lr'], weight_decay=config['weight_decay'])\n",
    "    scheduler = CosineAnnealingWarmRestarts(optimizer, T_0=config['t_0'], eta_min=config['eta_min'])\n",
    "else:\n",
    "    optimizer = torch.optim.SGD(model.parameters(), lr=config['lr'], momentum=config['momentum'], weight_decay=config['weight_decay'])\n",
    "    scheduler = MultiStepLR(optimizer, milestones=config['milestones'], gamma=config['gamma'])"
   ]
  },
  {
   "cell_type": "markdown",
   "metadata": {
    "id": "P0Bw6946TWFq"
   },
   "source": [
    "### 3.3 Define the Training Loop\n",
    "Below, we have a function that performs one training epoch. It enumerates data from the DataLoader, and on each pass of the loop does the following:\n",
    "\n",
    "* Gets a batch of training data from the DataLoader\n",
    "\n",
    "* Zeros the optimizer’s gradients\n",
    "\n",
    "* Performs an inference - that is, gets predictions from the model for an input batch\n",
    "\n",
    "* Calculates the loss for that set of predictions vs. the labels on the dataset\n",
    "\n",
    "* Calculates the backward gradients over the learning weights\n",
    "\n",
    "* Tells the optimizer to perform one learning step - that is, adjust the model’s learning weights based on the observed gradients for this batch, according to the optimization algorithm we chose\n",
    "\n",
    "* Finally, it reports the averaged epoch loss for comparison with a validation run"
   ]
  },
  {
   "cell_type": "code",
   "execution_count": 42,
   "metadata": {
    "id": "LBV9q_AkTWFq"
   },
   "outputs": [],
   "source": [
    "def train_one_epoch(model):\n",
    "    running_loss = 0.\n",
    "    train_loss = 0.\n",
    "    train_acc = 0.\n",
    "    num_correct = 0\n",
    "    num_samples = 0\n",
    "\n",
    "    # Here, we use enumerate(train_dataloader) instead of\n",
    "    # iter(training_loader) so that we can track the batch\n",
    "    # index and do some intra-epoch reporting\n",
    "    for _, data in enumerate(train_dataloader):\n",
    "        # Every data instance is an input + label pair\n",
    "        inputs, labels = data\n",
    "\n",
    "        # Zero your gradients for every batch!\n",
    "        optimizer.zero_grad()\n",
    "\n",
    "        # Make predictions for this batch\n",
    "        outputs = model(inputs.to(device))\n",
    "\n",
    "        # Compute the loss and its gradients\n",
    "        loss = criterion(outputs, labels.to(device))\n",
    "        loss.backward()\n",
    "\n",
    "        # Adjust learning weights\n",
    "        optimizer.step()\n",
    "\n",
    "        # Gather data and report\n",
    "        running_loss += loss.item()\n",
    "        _, predictions = outputs.max(dim=-1)\n",
    "        num_correct += (predictions == labels.to(device)).sum()\n",
    "        num_samples += predictions.size(0)\n",
    "\n",
    "    train_loss = running_loss/len(train_dataloader)\n",
    "    train_acc = float(num_correct)/float(num_samples)\n",
    "\n",
    "    return train_loss, train_acc"
   ]
  },
  {
   "cell_type": "markdown",
   "metadata": {
    "id": "yhPRxoFfTWFq"
   },
   "source": [
    "#### 3.4 Evaluate the Trained Model on Validation Data\n",
    "* Perform validation by examining the relative loss on a dataset that was not utilized for training.\n",
    "\n",
    "* Save a copy of the model\n",
    "\n",
    "* Utilize TensorBoard for reporting. (This necessitates launching TensorBoard from the command line and accessing it in a separate browser tab.)"
   ]
  },
  {
   "cell_type": "code",
   "execution_count": 43,
   "metadata": {
    "id": "38vqDEWiTWFr"
   },
   "outputs": [],
   "source": [
    "# Initializing in a separate cell so we can easily add more epochs to the same run\n",
    "def train(model):\n",
    "        # Initializing in a separate cell so we can easily add more epochs to the same run\n",
    "    timestamp = datetime.now().strftime('%Y%m%d_%H%M%S')\n",
    "    writer = SummaryWriter('./eurosat_trainer_{}'.format(timestamp))\n",
    "    epoch_number = 0\n",
    "    tr_acc = 0.0\n",
    "    best_vloss = 1_000_000.\n",
    "\n",
    "    for epoch in range(config['epochs']):\n",
    "        print('============= EPOCH {} ============='.format(epoch_number + 1))\n",
    "\n",
    "        # Make sure gradient tracking is on, and do a pass over the data\n",
    "        model.train(True)\n",
    "        avg_loss, tr_acc = train_one_epoch(model)\n",
    "\n",
    "        running_vloss = 0.0\n",
    "        val_acc = 0.0\n",
    "        num_vcorrect = 0\n",
    "        num_vsamples = 0\n",
    "\n",
    "        # Set the model to evaluation mode, disabling dropout and using population statistics for batch normalization.\n",
    "        model.eval()\n",
    "\n",
    "        # Disable gradient computation and reduce memory consumption.\n",
    "        with torch.no_grad():\n",
    "            for i, vdata in enumerate(val_dataloader):\n",
    "                vinputs, vlabels = vdata\n",
    "                voutputs = model(vinputs.to(device))\n",
    "                vloss = criterion(voutputs, vlabels.to(device))\n",
    "                running_vloss += vloss\n",
    "                _, vpredictions = voutputs.max(dim=-1)\n",
    "                num_vcorrect += (vpredictions == vlabels.to(device)).sum()\n",
    "                num_vsamples += vpredictions.size(0)\n",
    "\n",
    "        avg_vloss = running_vloss / len(val_dataloader)\n",
    "        val_acc = float(num_vcorrect)/float(num_vsamples)\n",
    "        print('LOSS : train {} | valid {}'.format(round(avg_loss, 4), round(avg_vloss.item(), 4)))\n",
    "        print('ACC  : train {}% | valid {}%'.format(round(tr_acc*100, 2), round(val_acc*100),2))\n",
    "\n",
    "        # Log the running loss averaged per epoch for both training and validation\n",
    "        writer.add_scalars('Training vs. Validation Loss',\n",
    "                        { 'Training' : avg_loss, 'Validation' : avg_vloss },\n",
    "                        epoch_number + 1)\n",
    "        writer.add_scalars('Training vs. Validation Accuracy',\n",
    "                        { 'Training' : tr_acc, 'Validation' : val_acc },\n",
    "                        epoch_number + 1)\n",
    "        writer.flush()\n",
    "\n",
    "        # Track best performance, and save the model's state\n",
    "        if avg_vloss < best_vloss:\n",
    "            best_vloss = avg_vloss\n",
    "            torch.save(model.state_dict(), model_path)\n",
    "\n",
    "        epoch_number += 1"
   ]
  },
  {
   "cell_type": "code",
   "execution_count": 44,
   "metadata": {
    "id": "Xjg4hBG9du8R"
   },
   "outputs": [],
   "source": [
    "def eval_loop(model,dataloader):\n",
    "    start=time_ns()\n",
    "    running_tloss = 0.\n",
    "    test_acc = 0.\n",
    "    num_tcorrect = 0\n",
    "    num_tsamples = 0\n",
    "    with torch.no_grad():\n",
    "        for _, tdata in enumerate(dataloader):\n",
    "            tinputs, tlabels = tdata\n",
    "            toutputs = model(tinputs.to(device))\n",
    "            tloss = criterion(toutputs, tlabels.to(device))\n",
    "            running_tloss += tloss\n",
    "            _, tpredictions = toutputs.max(dim=-1)\n",
    "            num_tcorrect += (tpredictions == tlabels.to(device)).sum()\n",
    "            num_tsamples += tpredictions.size(0)\n",
    "    avg_tloss = running_tloss/len(dataloader)\n",
    "    test_acc = float(num_tcorrect)/float(num_tsamples)\n",
    "    end=time_ns()\n",
    "    return avg_tloss,test_acc, end-start"
   ]
  },
  {
   "cell_type": "markdown",
   "metadata": {
    "id": "kQ1fWHUtTWFr"
   },
   "source": [
    "## 4. Model Quantization"
   ]
  },
  {
   "cell_type": "markdown",
   "metadata": {
    "id": "Tzm5Fc2jTWFr"
   },
   "source": [
    "### 4.1 Quantized Model"
   ]
  },
  {
   "cell_type": "code",
   "execution_count": 45,
   "metadata": {
    "colab": {
     "base_uri": "https://localhost:8080/",
     "height": 383
    },
    "id": "zolaBcpjdzBU",
    "outputId": "d2c9d806-db79-42ed-938d-3fb80c0eb35a"
   },
   "outputs": [
    {
     "name": "stdout",
     "output_type": "stream",
     "text": [
      "---> Prepared Model <---\n",
      "Loss: 0.0031\n",
      "Accuracy: 99.96\n",
      "Time (ns): 21721107828\n"
     ]
    }
   ],
   "source": [
    "#train(model)\n",
    "\n",
    "#model_avg_tloss, model_test_acc, model_time = eval_loop(model,test_dataloader)\n",
    "#print(f\"---> Model <---\")\n",
    "#print(f'Loss: {round(model_avg_tloss.item(),4)}')\n",
    "#print(f'Accuracy: {round(model_test_acc*100,2)}')\n",
    "#print(f\"Time (ns): {model_time}\")\n",
    "\n",
    "model=models.quantization.resnet50()\n",
    "model.fc = nn.Linear(model.fc.in_features, num_classes)\n",
    "model.load_state_dict(torch.load(model_path))\n",
    "model.to(device)\n",
    "model.eval()\n",
    "\n",
    "model.qconfig = torch.quantization.get_default_qconfig(\"x86\")\n",
    "model.fuse_model(is_qat=False)\n",
    "prepared_model = torch.quantization.prepare(model)\n",
    "#\n",
    "prepared_model_avg_tloss, prepared_model_test_acc, prepared_model_time = eval_loop(prepared_model,train_dataloader)\n",
    "print(f\"---> Prepared Model <---\")\n",
    "print(f'Loss: {round(prepared_model_avg_tloss.item(),4)}')\n",
    "print(f'Accuracy: {round(prepared_model_test_acc*100,2)}')\n",
    "print(f\"Time (ns): {prepared_model_time}\")\n",
    "#\n",
    "prepared_model.eval()\n",
    "quantized_model = torch.quantization.convert(prepared_model)\n",
    "\n",
    "torch.save(quantized_model.state_dict(), quantized_model_path)"
   ]
  },
  {
   "cell_type": "markdown",
   "metadata": {
    "id": "HHOZbSzuTWFr"
   },
   "source": [
    "## 5. Models evaluation performances"
   ]
  },
  {
   "cell_type": "code",
   "execution_count": 49,
   "metadata": {
    "id": "d_3ODqCuTWFr"
   },
   "outputs": [
    {
     "name": "stdout",
     "output_type": "stream",
     "text": [
      "---> Model <---\n",
      "Loss: 0.1134\n",
      "Accuracy: 96.63\n",
      "Time (ns): 11398028335\n",
      "---> Quantized Model <---\n",
      "Loss: 0.2416\n",
      "Accuracy: 92.81\n",
      "Time (ns): 2896389951\n",
      "The quantized model is:\n",
      "3.99 times smaller\n",
      "3.94 times faster\n"
     ]
    }
   ],
   "source": [
    "def get_model_size(model_path):\n",
    "    model_path_stat = os.stat(model_path)\n",
    "    return model_path_stat.st_size\n",
    "\n",
    "num_classes=10\n",
    "model=models.resnet50()\n",
    "model.fc = nn.Linear(model.fc.in_features, num_classes)\n",
    "model.load_state_dict(torch.load(model_path))\n",
    "model.to(device)\n",
    "model.eval()\n",
    "\n",
    "quantized_model=models.quantization.resnet50(quantize=True)\n",
    "quantized_model.load_state_dict(torch.load(quantized_model_path))\n",
    "quantized_model.to(device)\n",
    "quantized_model.eval()\n",
    "\n",
    "model_avg_tloss, model_test_acc, model_time = eval_loop(model,test_dataloader)\n",
    "print(f\"---> Model <---\")\n",
    "print(f'Loss: {round(model_avg_tloss.item(),4)}')\n",
    "print(f'Accuracy: {round(model_test_acc*100,2)}')\n",
    "print(f\"Time (ns): {model_time}\")\n",
    "\n",
    "quantized_model_avg_tloss, quantized_model_test_acc, quantized_model_time = eval_loop(quantized_model,test_dataloader)\n",
    "print(f\"---> Quantized Model <---\")\n",
    "print(f'Loss: {round(quantized_model_avg_tloss.item(),4)}')\n",
    "print(f'Accuracy: {round(quantized_model_test_acc*100,2)}')\n",
    "print(f\"Time (ns): {quantized_model_time}\")\n",
    "\n",
    "model_size = get_model_size(model_path)\n",
    "quantized_model_size= get_model_size(quantized_model_path)\n",
    "print(f\"The quantized model is:\") \n",
    "print(f\"{model_size/quantized_model_size:.2f} times smaller\")\n",
    "print(f\"{model_time/quantized_model_time:.2f} times faster\")\n"
   ]
  }
 ],
 "metadata": {
  "colab": {
   "provenance": []
  },
  "kernelspec": {
   "display_name": "Python 3 (ipykernel)",
   "language": "python",
   "name": "python3"
  },
  "language_info": {
   "codemirror_mode": {
    "name": "ipython",
    "version": 3
   },
   "file_extension": ".py",
   "mimetype": "text/x-python",
   "name": "python",
   "nbconvert_exporter": "python",
   "pygments_lexer": "ipython3",
   "version": "3.10.14"
  }
 },
 "nbformat": 4,
 "nbformat_minor": 4
}
